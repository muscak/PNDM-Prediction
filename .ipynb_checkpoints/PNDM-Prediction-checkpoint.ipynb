{
 "cells": [
  {
   "cell_type": "markdown",
   "id": "031376e5-bd71-4f63-b4da-d2983c46685c",
   "metadata": {},
   "source": [
    "# PNDM Prediction\n",
    "\n",
    "This notebook looks into using various Python-based machine learning and data science libraries in an attempt to build a machine learning model capable of predicting whether or not someone has Permanent Neonatal Diabetes Mellitus (PNDM).\n",
    "\n",
    "We're going to take the following approach:\n",
    "\n",
    "1. Problem definition\n",
    "2. Data\n",
    "3. Evaluation\n",
    "4. Modelling"
   ]
  },
  {
   "cell_type": "markdown",
   "id": "ba7c04fa-67b1-4cda-ab55-29e17211e9bd",
   "metadata": {},
   "source": [
    "## Problem Definition\n",
    "\n",
    "Predicting if a patient has a PNDM or not by using given clinical parameters is a binary classification problem."
   ]
  },
  {
   "cell_type": "markdown",
   "id": "0feaa078-aac6-4bdc-a396-866054be49ce",
   "metadata": {},
   "source": [
    "## Data\n",
    "\n",
    "The sample dataset is taken from [Kaggle](https://www.kaggle.com/datasets/slmsshk/pndm-prediction-dataset). The dataset has 7 features to be used predicting the label which is PNDM columns in the dataset. You can see the data dictionary [here](./Data/README.md)."
   ]
  },
  {
   "cell_type": "markdown",
   "id": "6ad56938-980c-4c37-9607-5cf3b4f65fb4",
   "metadata": {},
   "source": [
    "## Evaluation\n",
    "\n",
    "> If we can reach 95% accuracy at predicting whether or not a patient has heart disease during the proof of concept, we'll pursue the project.\n",
    "\n",
    "⚠️ **Note:** Due to the nature of experimentation, the evaluation metric may change over time."
   ]
  },
  {
   "cell_type": "markdown",
   "id": "072fa44f-a71f-42b5-b59e-fd754ae467d6",
   "metadata": {},
   "source": [
    "## Import Libraries\n",
    "\n",
    "We're going to use:\n",
    "- [pandas](https://pandas.pydata.org/) for data analysis.\n",
    "- [NumPy](https://numpy.org/) for numerical operations.\n",
    "- [Matplotlib](https://matplotlib.org/) / [seaborn](https://seaborn.pydata.org/) for plotting or data visualization.\n",
    "- [Scikit-Learn](https://scikit-learn.org/stable/) for machine learning modelling and evaluation."
   ]
  },
  {
   "cell_type": "code",
   "execution_count": 14,
   "id": "ecfb4dc8-c632-4def-a000-131b89b5c038",
   "metadata": {},
   "outputs": [],
   "source": [
    "# Regular EDA (exploratory data analysis) and plotting libraries\n",
    "import pandas as pd\n",
    "import numpy as nb\n",
    "import matplotlib.pyplot as plt\n",
    "import seaborn as sb\n",
    "sb.set_style('whitegrid')\n",
    "# we want our plots to appear inside the notebook\n",
    "%matplotlib inline\n",
    "\n",
    "# Linear Models from Scikit-Learn\n",
    "from sklearn.linear_model import LogisticRegression\n",
    "\n",
    "# Non-linear Models from Scikit-Learn\n",
    "from sklearn.neighbors import KNeighborsClassifier\n",
    "\n",
    "# Ensemble Models from Scikit-Learn\n",
    "from sklearn.ensemble import RandomForestClassifier\n",
    "\n",
    "# Model Evaluations\n",
    "from sklearn.model_selection import train_test_split, cross_val_score\n",
    "from sklearn.model_selection import RandomizedSearchCV, GridSearchCV\n",
    "from sklearn.metrics import confusion_matrix, classification_report\n",
    "from sklearn.metrics import precision_score, recall_score, f1_score\n",
    "from sklearn.metrics import auc, roc_auc_score, roc_curve"
   ]
  },
  {
   "cell_type": "markdown",
   "id": "7153be88-a03f-4f60-b18c-cf3e7eab2c66",
   "metadata": {},
   "source": [
    "## Load Data"
   ]
  },
  {
   "cell_type": "code",
   "execution_count": 8,
   "id": "baec20a9-2309-41ae-8191-12b9362c653d",
   "metadata": {},
   "outputs": [
    {
     "data": {
      "text/plain": [
       "(100000, 8)"
      ]
     },
     "execution_count": 8,
     "metadata": {},
     "output_type": "execute_result"
    }
   ],
   "source": [
    "df = pd.read_csv(\"Data/PNDB.csv\")\n",
    "df.shape # (rows, columns)"
   ]
  },
  {
   "cell_type": "markdown",
   "id": "7aa3ac4d-0d86-45fb-9714-4904497bad78",
   "metadata": {},
   "source": [
    "## Data Exploration\n",
    "\n",
    "The goal here is to find out more about the data and become a subject matter export on the dataset you're working with.\n",
    "\n",
    "1. What question(s) are you trying to solve?\n",
    "2. What kind of data do we have and how do we treat different types?\n",
    "3. What's missing from the data and how do you deal with it?\n",
    "4. Where are the outliers and why should you care about them?\n",
    "5. How can you add, change or remove features to get more out of your data?"
   ]
  },
  {
   "cell_type": "code",
   "execution_count": 9,
   "id": "84b9db0b-0779-42a5-915b-07f07cb7b221",
   "metadata": {},
   "outputs": [
    {
     "data": {
      "text/html": [
       "<div>\n",
       "<style scoped>\n",
       "    .dataframe tbody tr th:only-of-type {\n",
       "        vertical-align: middle;\n",
       "    }\n",
       "\n",
       "    .dataframe tbody tr th {\n",
       "        vertical-align: top;\n",
       "    }\n",
       "\n",
       "    .dataframe thead th {\n",
       "        text-align: right;\n",
       "    }\n",
       "</style>\n",
       "<table border=\"1\" class=\"dataframe\">\n",
       "  <thead>\n",
       "    <tr style=\"text-align: right;\">\n",
       "      <th></th>\n",
       "      <th>Age</th>\n",
       "      <th>HbA1c</th>\n",
       "      <th>Genetic Info</th>\n",
       "      <th>Family History</th>\n",
       "      <th>Birth Weight</th>\n",
       "      <th>Developmental Delay</th>\n",
       "      <th>Insulin Level</th>\n",
       "      <th>PNDM</th>\n",
       "    </tr>\n",
       "  </thead>\n",
       "  <tbody>\n",
       "    <tr>\n",
       "      <th>0</th>\n",
       "      <td>3</td>\n",
       "      <td>4.840927</td>\n",
       "      <td>Mutation</td>\n",
       "      <td>Yes</td>\n",
       "      <td>3.128268</td>\n",
       "      <td>No</td>\n",
       "      <td>5.585608</td>\n",
       "      <td>0</td>\n",
       "    </tr>\n",
       "    <tr>\n",
       "      <th>1</th>\n",
       "      <td>3</td>\n",
       "      <td>5.694742</td>\n",
       "      <td>Mutation</td>\n",
       "      <td>No</td>\n",
       "      <td>2.059342</td>\n",
       "      <td>No</td>\n",
       "      <td>3.141359</td>\n",
       "      <td>1</td>\n",
       "    </tr>\n",
       "    <tr>\n",
       "      <th>2</th>\n",
       "      <td>7</td>\n",
       "      <td>6.843595</td>\n",
       "      <td>No mutation</td>\n",
       "      <td>No</td>\n",
       "      <td>2.718667</td>\n",
       "      <td>Yes</td>\n",
       "      <td>4.639313</td>\n",
       "      <td>0</td>\n",
       "    </tr>\n",
       "    <tr>\n",
       "      <th>3</th>\n",
       "      <td>2</td>\n",
       "      <td>6.480186</td>\n",
       "      <td>No mutation</td>\n",
       "      <td>No</td>\n",
       "      <td>3.087017</td>\n",
       "      <td>No</td>\n",
       "      <td>6.217178</td>\n",
       "      <td>0</td>\n",
       "    </tr>\n",
       "    <tr>\n",
       "      <th>4</th>\n",
       "      <td>4</td>\n",
       "      <td>7.052861</td>\n",
       "      <td>Mutation</td>\n",
       "      <td>No</td>\n",
       "      <td>3.481472</td>\n",
       "      <td>No</td>\n",
       "      <td>3.368892</td>\n",
       "      <td>0</td>\n",
       "    </tr>\n",
       "  </tbody>\n",
       "</table>\n",
       "</div>"
      ],
      "text/plain": [
       "   Age     HbA1c Genetic Info Family History  Birth Weight  \\\n",
       "0    3  4.840927     Mutation            Yes      3.128268   \n",
       "1    3  5.694742     Mutation             No      2.059342   \n",
       "2    7  6.843595  No mutation             No      2.718667   \n",
       "3    2  6.480186  No mutation             No      3.087017   \n",
       "4    4  7.052861     Mutation             No      3.481472   \n",
       "\n",
       "  Developmental Delay  Insulin Level  PNDM  \n",
       "0                  No       5.585608     0  \n",
       "1                  No       3.141359     1  \n",
       "2                 Yes       4.639313     0  \n",
       "3                  No       6.217178     0  \n",
       "4                  No       3.368892     0  "
      ]
     },
     "execution_count": 9,
     "metadata": {},
     "output_type": "execute_result"
    }
   ],
   "source": [
    "df.head()"
   ]
  },
  {
   "cell_type": "code",
   "execution_count": 10,
   "id": "5fd11939-789b-4519-9a62-de0239ee78d5",
   "metadata": {},
   "outputs": [
    {
     "data": {
      "text/plain": [
       "0    95178\n",
       "1     4822\n",
       "Name: PNDM, dtype: int64"
      ]
     },
     "execution_count": 10,
     "metadata": {},
     "output_type": "execute_result"
    }
   ],
   "source": [
    "df['PNDM'].value_counts()"
   ]
  },
  {
   "cell_type": "code",
   "execution_count": 15,
   "id": "7d4c0168-d436-458e-8aae-e32ca4dee09f",
   "metadata": {},
   "outputs": [
    {
     "data": {
      "text/plain": [
       "<AxesSubplot: >"
      ]
     },
     "execution_count": 15,
     "metadata": {},
     "output_type": "execute_result"
    },
    {
     "data": {
      "image/png": "[encoded data removed]",
      "text/plain": [
       "<Figure size 640x480 with 1 Axes>"
      ]
     },
     "metadata": {},
     "output_type": "display_data"
    }
   ],
   "source": [
    "df['PNDM'].value_counts().plot(kind='bar', color=['salmon', 'lightblue'])"
   ]
  },
  {
   "cell_type": "code",
   "execution_count": null,
   "id": "c0671b01-b153-45fb-b70c-451b3a0a56ec",
   "metadata": {},
   "outputs": [],
   "source": []
  },
  {
   "cell_type": "code",
   "execution_count": 16,
   "id": "80c80f09-321e-4750-bf08-cfde4294d9f4",
   "metadata": {},
   "outputs": [
    {
     "name": "stdout",
     "output_type": "stream",
     "text": [
      "<class 'pandas.core.frame.DataFrame'>\n",
      "RangeIndex: 100000 entries, 0 to 99999\n",
      "Data columns (total 8 columns):\n",
      " #   Column               Non-Null Count   Dtype  \n",
      "---  ------               --------------   -----  \n",
      " 0   Age                  100000 non-null  int64  \n",
      " 1   HbA1c                100000 non-null  float64\n",
      " 2   Genetic Info         100000 non-null  object \n",
      " 3   Family History       100000 non-null  object \n",
      " 4   Birth Weight         100000 non-null  float64\n",
      " 5   Developmental Delay  100000 non-null  object \n",
      " 6   Insulin Level        100000 non-null  float64\n",
      " 7   PNDM                 100000 non-null  int64  \n",
      "dtypes: float64(3), int64(2), object(3)\n",
      "memory usage: 6.1+ MB\n"
     ]
    }
   ],
   "source": [
    "df.info()"
   ]
  },
  {
   "cell_type": "code",
   "execution_count": 17,
   "id": "6df334a8-5774-4888-9dd6-e4294398260a",
   "metadata": {},
   "outputs": [
    {
     "data": {
      "text/plain": [
       "Age                    0\n",
       "HbA1c                  0\n",
       "Genetic Info           0\n",
       "Family History         0\n",
       "Birth Weight           0\n",
       "Developmental Delay    0\n",
       "Insulin Level          0\n",
       "PNDM                   0\n",
       "dtype: int64"
      ]
     },
     "execution_count": 17,
     "metadata": {},
     "output_type": "execute_result"
    }
   ],
   "source": [
    "df.isna().sum()"
   ]
  },
  {
   "cell_type": "code",
   "execution_count": 20,
   "id": "7bf92ec8-fcc2-44e0-a076-5230ed54f4ce",
   "metadata": {},
   "outputs": [
    {
     "data": {
      "text/html": [
       "<div>\n",
       "<style scoped>\n",
       "    .dataframe tbody tr th:only-of-type {\n",
       "        vertical-align: middle;\n",
       "    }\n",
       "\n",
       "    .dataframe tbody tr th {\n",
       "        vertical-align: top;\n",
       "    }\n",
       "\n",
       "    .dataframe thead th {\n",
       "        text-align: right;\n",
       "    }\n",
       "</style>\n",
       "<table border=\"1\" class=\"dataframe\">\n",
       "  <thead>\n",
       "    <tr style=\"text-align: right;\">\n",
       "      <th></th>\n",
       "      <th>Age</th>\n",
       "      <th>HbA1c</th>\n",
       "      <th>Genetic Info</th>\n",
       "      <th>Family History</th>\n",
       "      <th>Birth Weight</th>\n",
       "      <th>Developmental Delay</th>\n",
       "      <th>Insulin Level</th>\n",
       "      <th>PNDM</th>\n",
       "    </tr>\n",
       "  </thead>\n",
       "  <tbody>\n",
       "    <tr>\n",
       "      <th>count</th>\n",
       "      <td>100000.000000</td>\n",
       "      <td>100000.000000</td>\n",
       "      <td>100000</td>\n",
       "      <td>100000</td>\n",
       "      <td>100000.000000</td>\n",
       "      <td>100000</td>\n",
       "      <td>100000.000000</td>\n",
       "      <td>100000.000000</td>\n",
       "    </tr>\n",
       "    <tr>\n",
       "      <th>unique</th>\n",
       "      <td>NaN</td>\n",
       "      <td>NaN</td>\n",
       "      <td>2</td>\n",
       "      <td>2</td>\n",
       "      <td>NaN</td>\n",
       "      <td>2</td>\n",
       "      <td>NaN</td>\n",
       "      <td>NaN</td>\n",
       "    </tr>\n",
       "    <tr>\n",
       "      <th>top</th>\n",
       "      <td>NaN</td>\n",
       "      <td>NaN</td>\n",
       "      <td>No mutation</td>\n",
       "      <td>No</td>\n",
       "      <td>NaN</td>\n",
       "      <td>No</td>\n",
       "      <td>NaN</td>\n",
       "      <td>NaN</td>\n",
       "    </tr>\n",
       "    <tr>\n",
       "      <th>freq</th>\n",
       "      <td>NaN</td>\n",
       "      <td>NaN</td>\n",
       "      <td>79992</td>\n",
       "      <td>90024</td>\n",
       "      <td>NaN</td>\n",
       "      <td>85101</td>\n",
       "      <td>NaN</td>\n",
       "      <td>NaN</td>\n",
       "    </tr>\n",
       "    <tr>\n",
       "      <th>mean</th>\n",
       "      <td>6.000500</td>\n",
       "      <td>6.996700</td>\n",
       "      <td>NaN</td>\n",
       "      <td>NaN</td>\n",
       "      <td>2.801585</td>\n",
       "      <td>NaN</td>\n",
       "      <td>5.003078</td>\n",
       "      <td>0.048220</td>\n",
       "    </tr>\n",
       "    <tr>\n",
       "      <th>std</th>\n",
       "      <td>3.166048</td>\n",
       "      <td>0.998358</td>\n",
       "      <td>NaN</td>\n",
       "      <td>NaN</td>\n",
       "      <td>0.500464</td>\n",
       "      <td>NaN</td>\n",
       "      <td>1.992177</td>\n",
       "      <td>0.214232</td>\n",
       "    </tr>\n",
       "    <tr>\n",
       "      <th>min</th>\n",
       "      <td>1.000000</td>\n",
       "      <td>2.830618</td>\n",
       "      <td>NaN</td>\n",
       "      <td>NaN</td>\n",
       "      <td>0.427123</td>\n",
       "      <td>NaN</td>\n",
       "      <td>-3.242078</td>\n",
       "      <td>0.000000</td>\n",
       "    </tr>\n",
       "    <tr>\n",
       "      <th>25%</th>\n",
       "      <td>3.000000</td>\n",
       "      <td>6.323205</td>\n",
       "      <td>NaN</td>\n",
       "      <td>NaN</td>\n",
       "      <td>2.463519</td>\n",
       "      <td>NaN</td>\n",
       "      <td>3.661212</td>\n",
       "      <td>0.000000</td>\n",
       "    </tr>\n",
       "    <tr>\n",
       "      <th>50%</th>\n",
       "      <td>6.000000</td>\n",
       "      <td>6.996069</td>\n",
       "      <td>NaN</td>\n",
       "      <td>NaN</td>\n",
       "      <td>2.800933</td>\n",
       "      <td>NaN</td>\n",
       "      <td>5.002304</td>\n",
       "      <td>0.000000</td>\n",
       "    </tr>\n",
       "    <tr>\n",
       "      <th>75%</th>\n",
       "      <td>9.000000</td>\n",
       "      <td>7.670997</td>\n",
       "      <td>NaN</td>\n",
       "      <td>NaN</td>\n",
       "      <td>3.139870</td>\n",
       "      <td>NaN</td>\n",
       "      <td>6.348078</td>\n",
       "      <td>0.000000</td>\n",
       "    </tr>\n",
       "    <tr>\n",
       "      <th>max</th>\n",
       "      <td>11.000000</td>\n",
       "      <td>11.315256</td>\n",
       "      <td>NaN</td>\n",
       "      <td>NaN</td>\n",
       "      <td>4.910420</td>\n",
       "      <td>NaN</td>\n",
       "      <td>13.304440</td>\n",
       "      <td>1.000000</td>\n",
       "    </tr>\n",
       "  </tbody>\n",
       "</table>\n",
       "</div>"
      ],
      "text/plain": [
       "                  Age          HbA1c Genetic Info Family History  \\\n",
       "count   100000.000000  100000.000000       100000         100000   \n",
       "unique            NaN            NaN            2              2   \n",
       "top               NaN            NaN  No mutation             No   \n",
       "freq              NaN            NaN        79992          90024   \n",
       "mean         6.000500       6.996700          NaN            NaN   \n",
       "std          3.166048       0.998358          NaN            NaN   \n",
       "min          1.000000       2.830618          NaN            NaN   \n",
       "25%          3.000000       6.323205          NaN            NaN   \n",
       "50%          6.000000       6.996069          NaN            NaN   \n",
       "75%          9.000000       7.670997          NaN            NaN   \n",
       "max         11.000000      11.315256          NaN            NaN   \n",
       "\n",
       "         Birth Weight Developmental Delay  Insulin Level           PNDM  \n",
       "count   100000.000000              100000  100000.000000  100000.000000  \n",
       "unique            NaN                   2            NaN            NaN  \n",
       "top               NaN                  No            NaN            NaN  \n",
       "freq              NaN               85101            NaN            NaN  \n",
       "mean         2.801585                 NaN       5.003078       0.048220  \n",
       "std          0.500464                 NaN       1.992177       0.214232  \n",
       "min          0.427123                 NaN      -3.242078       0.000000  \n",
       "25%          2.463519                 NaN       3.661212       0.000000  \n",
       "50%          2.800933                 NaN       5.002304       0.000000  \n",
       "75%          3.139870                 NaN       6.348078       0.000000  \n",
       "max          4.910420                 NaN      13.304440       1.000000  "
      ]
     },
     "execution_count": 20,
     "metadata": {},
     "output_type": "execute_result"
    }
   ],
   "source": [
    "df.describe(include='all')"
   ]
  },
  {
   "cell_type": "code",
   "execution_count": null,
   "id": "b77de198-afb6-4156-88da-14dc3ecc2f98",
   "metadata": {},
   "outputs": [],
   "source": []
  },
  {
   "cell_type": "code",
   "execution_count": null,
   "id": "affc371b-63d2-4be8-88ae-ce99ddbb1157",
   "metadata": {},
   "outputs": [],
   "source": []
  },
  {
   "cell_type": "code",
   "execution_count": null,
   "id": "14078756-feca-426b-84e0-33fc65447170",
   "metadata": {},
   "outputs": [],
   "source": []
  },
  {
   "cell_type": "markdown",
   "id": "43db80b3-0775-4dc9-8b0d-ac6a00468cbb",
   "metadata": {},
   "source": [
    "## Modeling"
   ]
  },
  {
   "cell_type": "code",
   "execution_count": null,
   "id": "bf52708d-c557-4cd7-9f77-0e4adfc08ad7",
   "metadata": {},
   "outputs": [],
   "source": []
  },
  {
   "cell_type": "code",
   "execution_count": null,
   "id": "39681d3c-84e9-4ffb-8bab-4e2273f11b3f",
   "metadata": {},
   "outputs": [],
   "source": []
  },
  {
   "cell_type": "code",
   "execution_count": null,
   "id": "91bce246-f943-428e-8e37-bcdc24072dc6",
   "metadata": {},
   "outputs": [],
   "source": []
  }
 ],
 "metadata": {
  "kernelspec": {
   "display_name": "Python 3 (ipykernel)",
   "language": "python",
   "name": "python3"
  },
  "language_info": {
   "codemirror_mode": {
    "name": "ipython",
    "version": 3
   },
   "file_extension": ".py",
   "mimetype": "text/x-python",
   "name": "python",
   "nbconvert_exporter": "python",
   "pygments_lexer": "ipython3",
   "version": "3.10.6"
  }
 },
 "nbformat": 4,
 "nbformat_minor": 5
}
